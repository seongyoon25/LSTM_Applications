{
  "nbformat": 4,
  "nbformat_minor": 0,
  "metadata": {
    "colab": {
      "name": "20191011_DRSA_activityreg.ipynb",
      "provenance": [],
      "collapsed_sections": [],
      "include_colab_link": true
    },
    "kernelspec": {
      "name": "python3",
      "display_name": "Python 3"
    },
    "accelerator": "GPU"
  },
  "cells": [
    {
      "cell_type": "markdown",
      "metadata": {
        "id": "view-in-github",
        "colab_type": "text"
      },
      "source": [
        "<a href=\"https://colab.research.google.com/github/yoomhub/LSTM_Applications/blob/master/Time-to-Event%20Prediction.ipynb\" target=\"_parent\"><img src=\"https://colab.research.google.com/assets/colab-badge.svg\" alt=\"Open In Colab\"/></a>"
      ]
    },
    {
      "cell_type": "markdown",
      "metadata": {
        "id": "oPoxeXin9I6Q",
        "colab_type": "text"
      },
      "source": [
        "# Survival Analysis Using Recurrent Neural Networks\n",
        "\n",
        "This notebook is utilizing Deep Recurrent Survival Analysis (DRSA) based on [Ren et al. (2019)](https://arxiv.org/abs/1809.02403).\n",
        "\n",
        "---\n",
        "\n",
        "### Seongyoon Kim\n",
        "\n",
        "Department of Computational Science and Engineering\n",
        "\n",
        "20191009\n",
        "\n",
        "---\n"
      ]
    },
    {
      "cell_type": "markdown",
      "metadata": {
        "id": "l2ynPNMJD2gi",
        "colab_type": "text"
      },
      "source": [
        "## 1. Import Libraries\n",
        "\n"
      ]
    },
    {
      "cell_type": "code",
      "metadata": {
        "id": "qS3v-mNb9IfH",
        "colab_type": "code",
        "outputId": "e3474ec0-4464-443c-84da-e001e0962b2b",
        "colab": {
          "base_uri": "https://localhost:8080/",
          "height": 325
        }
      },
      "source": [
        "try:\n",
        "  # %tensorflow_version only exists in Colab.\n",
        "  %tensorflow_version 2.x\n",
        "except Exception:\n",
        "  pass\n",
        "\n",
        "import tensorflow as tf\n",
        "import matplotlib.pyplot as plt\n",
        "from matplotlib.lines import Line2D\n",
        "import numpy as np\n",
        "import pandas as pd\n",
        "import seaborn as sns\n",
        "import os\n",
        "from sklearn.model_selection import train_test_split\n",
        "import seaborn as sns\n",
        "\n",
        "!pip install lifelines\n",
        "\n",
        "from lifelines.datasets import load_rossi"
      ],
      "execution_count": 1,
      "outputs": [
        {
          "output_type": "stream",
          "text": [
            "TensorFlow 2.x selected.\n",
            "Requirement already satisfied: lifelines in /usr/local/lib/python3.6/dist-packages (0.22.8)\n",
            "Requirement already satisfied: autograd-gamma>=0.3 in /usr/local/lib/python3.6/dist-packages (from lifelines) (0.4.1)\n",
            "Requirement already satisfied: pandas>=0.23.0 in /usr/local/lib/python3.6/dist-packages (from lifelines) (0.24.2)\n",
            "Requirement already satisfied: autograd>=1.3 in /usr/local/lib/python3.6/dist-packages (from lifelines) (1.3)\n",
            "Requirement already satisfied: numpy>=1.14.0 in /tensorflow-2.0.0-rc2/python3.6 (from lifelines) (1.17.2)\n",
            "Requirement already satisfied: matplotlib>=3.0 in /usr/local/lib/python3.6/dist-packages (from lifelines) (3.0.3)\n",
            "Requirement already satisfied: scipy>=1.0 in /usr/local/lib/python3.6/dist-packages (from lifelines) (1.3.1)\n",
            "Requirement already satisfied: pytz>=2011k in /usr/local/lib/python3.6/dist-packages (from pandas>=0.23.0->lifelines) (2018.9)\n",
            "Requirement already satisfied: python-dateutil>=2.5.0 in /usr/local/lib/python3.6/dist-packages (from pandas>=0.23.0->lifelines) (2.5.3)\n",
            "Requirement already satisfied: future>=0.15.2 in /usr/local/lib/python3.6/dist-packages (from autograd>=1.3->lifelines) (0.16.0)\n",
            "Requirement already satisfied: pyparsing!=2.0.4,!=2.1.2,!=2.1.6,>=2.0.1 in /usr/local/lib/python3.6/dist-packages (from matplotlib>=3.0->lifelines) (2.4.2)\n",
            "Requirement already satisfied: kiwisolver>=1.0.1 in /usr/local/lib/python3.6/dist-packages (from matplotlib>=3.0->lifelines) (1.1.0)\n",
            "Requirement already satisfied: cycler>=0.10 in /usr/local/lib/python3.6/dist-packages (from matplotlib>=3.0->lifelines) (0.10.0)\n",
            "Requirement already satisfied: six>=1.5 in /tensorflow-2.0.0-rc2/python3.6 (from python-dateutil>=2.5.0->pandas>=0.23.0->lifelines) (1.12.0)\n",
            "Requirement already satisfied: setuptools in /tensorflow-2.0.0-rc2/python3.6 (from kiwisolver>=1.0.1->matplotlib>=3.0->lifelines) (41.4.0)\n"
          ],
          "name": "stdout"
        }
      ]
    },
    {
      "cell_type": "code",
      "metadata": {
        "id": "LWhmDa5Q-_R-",
        "colab_type": "code",
        "outputId": "8aa3b3b2-56c6-4697-ded3-31677b1dd9e6",
        "colab": {
          "base_uri": "https://localhost:8080/",
          "height": 217
        }
      },
      "source": [
        "!pip install keras-rectified-adam\n",
        "from keras_radam.training import RAdamOptimizer"
      ],
      "execution_count": 2,
      "outputs": [
        {
          "output_type": "stream",
          "text": [
            "Requirement already satisfied: keras-rectified-adam in /usr/local/lib/python3.6/dist-packages (0.17.0)\n",
            "Requirement already satisfied: numpy in /tensorflow-2.0.0-rc2/python3.6 (from keras-rectified-adam) (1.17.2)\n",
            "Requirement already satisfied: Keras in /usr/local/lib/python3.6/dist-packages (from keras-rectified-adam) (2.2.5)\n",
            "Requirement already satisfied: six>=1.9.0 in /tensorflow-2.0.0-rc2/python3.6 (from Keras->keras-rectified-adam) (1.12.0)\n",
            "Requirement already satisfied: keras-preprocessing>=1.1.0 in /tensorflow-2.0.0-rc2/python3.6 (from Keras->keras-rectified-adam) (1.1.0)\n",
            "Requirement already satisfied: pyyaml in /usr/local/lib/python3.6/dist-packages (from Keras->keras-rectified-adam) (3.13)\n",
            "Requirement already satisfied: keras-applications>=1.0.8 in /tensorflow-2.0.0-rc2/python3.6 (from Keras->keras-rectified-adam) (1.0.8)\n",
            "Requirement already satisfied: h5py in /tensorflow-2.0.0-rc2/python3.6 (from Keras->keras-rectified-adam) (2.10.0)\n",
            "Requirement already satisfied: scipy>=0.14 in /usr/local/lib/python3.6/dist-packages (from Keras->keras-rectified-adam) (1.3.1)\n"
          ],
          "name": "stdout"
        },
        {
          "output_type": "stream",
          "text": [
            "Using TensorFlow backend.\n"
          ],
          "name": "stderr"
        }
      ]
    },
    {
      "cell_type": "markdown",
      "metadata": {
        "id": "-YOcMa6tEDjZ",
        "colab_type": "text"
      },
      "source": [
        "## 2. Read Data"
      ]
    },
    {
      "cell_type": "markdown",
      "metadata": {
        "id": "Ip_qg5QshhfD",
        "colab_type": "text"
      },
      "source": [
        "This dataset is the Rossi recidivism dataset, available in [lifelines](https://lifelines.readthedocs.io/en/latest/index.html) as `load_rossi()`.\n",
        "\n",
        "The dataframe `rossi` contains 432 observations. The week column is the duration, the arrest column is the event occurred, and the other columns represent variables we wish to regress against."
      ]
    },
    {
      "cell_type": "code",
      "metadata": {
        "id": "SgmzWyN0E5SV",
        "colab_type": "code",
        "outputId": "81295942-3f67-4798-a8a4-09940429befa",
        "colab": {
          "base_uri": "https://localhost:8080/",
          "height": 359
        }
      },
      "source": [
        "df = load_rossi().astype(float)\n",
        "\n",
        "df.head(10)"
      ],
      "execution_count": 3,
      "outputs": [
        {
          "output_type": "execute_result",
          "data": {
            "text/html": [
              "<div>\n",
              "<style scoped>\n",
              "    .dataframe tbody tr th:only-of-type {\n",
              "        vertical-align: middle;\n",
              "    }\n",
              "\n",
              "    .dataframe tbody tr th {\n",
              "        vertical-align: top;\n",
              "    }\n",
              "\n",
              "    .dataframe thead th {\n",
              "        text-align: right;\n",
              "    }\n",
              "</style>\n",
              "<table border=\"1\" class=\"dataframe\">\n",
              "  <thead>\n",
              "    <tr style=\"text-align: right;\">\n",
              "      <th></th>\n",
              "      <th>week</th>\n",
              "      <th>arrest</th>\n",
              "      <th>fin</th>\n",
              "      <th>age</th>\n",
              "      <th>race</th>\n",
              "      <th>wexp</th>\n",
              "      <th>mar</th>\n",
              "      <th>paro</th>\n",
              "      <th>prio</th>\n",
              "    </tr>\n",
              "  </thead>\n",
              "  <tbody>\n",
              "    <tr>\n",
              "      <th>0</th>\n",
              "      <td>20.0</td>\n",
              "      <td>1.0</td>\n",
              "      <td>0.0</td>\n",
              "      <td>27.0</td>\n",
              "      <td>1.0</td>\n",
              "      <td>0.0</td>\n",
              "      <td>0.0</td>\n",
              "      <td>1.0</td>\n",
              "      <td>3.0</td>\n",
              "    </tr>\n",
              "    <tr>\n",
              "      <th>1</th>\n",
              "      <td>17.0</td>\n",
              "      <td>1.0</td>\n",
              "      <td>0.0</td>\n",
              "      <td>18.0</td>\n",
              "      <td>1.0</td>\n",
              "      <td>0.0</td>\n",
              "      <td>0.0</td>\n",
              "      <td>1.0</td>\n",
              "      <td>8.0</td>\n",
              "    </tr>\n",
              "    <tr>\n",
              "      <th>2</th>\n",
              "      <td>25.0</td>\n",
              "      <td>1.0</td>\n",
              "      <td>0.0</td>\n",
              "      <td>19.0</td>\n",
              "      <td>0.0</td>\n",
              "      <td>1.0</td>\n",
              "      <td>0.0</td>\n",
              "      <td>1.0</td>\n",
              "      <td>13.0</td>\n",
              "    </tr>\n",
              "    <tr>\n",
              "      <th>3</th>\n",
              "      <td>52.0</td>\n",
              "      <td>0.0</td>\n",
              "      <td>1.0</td>\n",
              "      <td>23.0</td>\n",
              "      <td>1.0</td>\n",
              "      <td>1.0</td>\n",
              "      <td>1.0</td>\n",
              "      <td>1.0</td>\n",
              "      <td>1.0</td>\n",
              "    </tr>\n",
              "    <tr>\n",
              "      <th>4</th>\n",
              "      <td>52.0</td>\n",
              "      <td>0.0</td>\n",
              "      <td>0.0</td>\n",
              "      <td>19.0</td>\n",
              "      <td>0.0</td>\n",
              "      <td>1.0</td>\n",
              "      <td>0.0</td>\n",
              "      <td>1.0</td>\n",
              "      <td>3.0</td>\n",
              "    </tr>\n",
              "    <tr>\n",
              "      <th>5</th>\n",
              "      <td>52.0</td>\n",
              "      <td>0.0</td>\n",
              "      <td>0.0</td>\n",
              "      <td>24.0</td>\n",
              "      <td>1.0</td>\n",
              "      <td>1.0</td>\n",
              "      <td>0.0</td>\n",
              "      <td>0.0</td>\n",
              "      <td>2.0</td>\n",
              "    </tr>\n",
              "    <tr>\n",
              "      <th>6</th>\n",
              "      <td>23.0</td>\n",
              "      <td>1.0</td>\n",
              "      <td>0.0</td>\n",
              "      <td>25.0</td>\n",
              "      <td>1.0</td>\n",
              "      <td>1.0</td>\n",
              "      <td>1.0</td>\n",
              "      <td>1.0</td>\n",
              "      <td>0.0</td>\n",
              "    </tr>\n",
              "    <tr>\n",
              "      <th>7</th>\n",
              "      <td>52.0</td>\n",
              "      <td>0.0</td>\n",
              "      <td>1.0</td>\n",
              "      <td>21.0</td>\n",
              "      <td>1.0</td>\n",
              "      <td>1.0</td>\n",
              "      <td>0.0</td>\n",
              "      <td>1.0</td>\n",
              "      <td>4.0</td>\n",
              "    </tr>\n",
              "    <tr>\n",
              "      <th>8</th>\n",
              "      <td>52.0</td>\n",
              "      <td>0.0</td>\n",
              "      <td>0.0</td>\n",
              "      <td>22.0</td>\n",
              "      <td>1.0</td>\n",
              "      <td>0.0</td>\n",
              "      <td>0.0</td>\n",
              "      <td>0.0</td>\n",
              "      <td>6.0</td>\n",
              "    </tr>\n",
              "    <tr>\n",
              "      <th>9</th>\n",
              "      <td>52.0</td>\n",
              "      <td>0.0</td>\n",
              "      <td>0.0</td>\n",
              "      <td>20.0</td>\n",
              "      <td>1.0</td>\n",
              "      <td>1.0</td>\n",
              "      <td>0.0</td>\n",
              "      <td>0.0</td>\n",
              "      <td>0.0</td>\n",
              "    </tr>\n",
              "  </tbody>\n",
              "</table>\n",
              "</div>"
            ],
            "text/plain": [
              "   week  arrest  fin   age  race  wexp  mar  paro  prio\n",
              "0  20.0     1.0  0.0  27.0   1.0   0.0  0.0   1.0   3.0\n",
              "1  17.0     1.0  0.0  18.0   1.0   0.0  0.0   1.0   8.0\n",
              "2  25.0     1.0  0.0  19.0   0.0   1.0  0.0   1.0  13.0\n",
              "3  52.0     0.0  1.0  23.0   1.0   1.0  1.0   1.0   1.0\n",
              "4  52.0     0.0  0.0  19.0   0.0   1.0  0.0   1.0   3.0\n",
              "5  52.0     0.0  0.0  24.0   1.0   1.0  0.0   0.0   2.0\n",
              "6  23.0     1.0  0.0  25.0   1.0   1.0  1.0   1.0   0.0\n",
              "7  52.0     0.0  1.0  21.0   1.0   1.0  0.0   1.0   4.0\n",
              "8  52.0     0.0  0.0  22.0   1.0   0.0  0.0   0.0   6.0\n",
              "9  52.0     0.0  0.0  20.0   1.0   1.0  0.0   0.0   0.0"
            ]
          },
          "metadata": {
            "tags": []
          },
          "execution_count": 3
        }
      ]
    },
    {
      "cell_type": "code",
      "metadata": {
        "id": "Riwug2iSEwg1",
        "colab_type": "code",
        "outputId": "a7be4e6d-9160-4988-ce3a-61fc653fdd77",
        "colab": {
          "base_uri": "https://localhost:8080/",
          "height": 35
        }
      },
      "source": [
        "df.shape"
      ],
      "execution_count": 4,
      "outputs": [
        {
          "output_type": "execute_result",
          "data": {
            "text/plain": [
              "(432, 9)"
            ]
          },
          "metadata": {
            "tags": []
          },
          "execution_count": 4
        }
      ]
    },
    {
      "cell_type": "markdown",
      "metadata": {
        "id": "lbuPgaf0giIa",
        "colab_type": "text"
      },
      "source": [
        "Check whether the missing values exist."
      ]
    },
    {
      "cell_type": "code",
      "metadata": {
        "id": "VXEIL9EAC5gT",
        "colab_type": "code",
        "outputId": "f3c95e2d-bf62-46f6-9b7e-2b0efc4b7883",
        "colab": {
          "base_uri": "https://localhost:8080/",
          "height": 35
        }
      },
      "source": [
        "df.isna().sum(0)[df.isna().sum(0)>0]"
      ],
      "execution_count": 5,
      "outputs": [
        {
          "output_type": "execute_result",
          "data": {
            "text/plain": [
              "Series([], dtype: int64)"
            ]
          },
          "metadata": {
            "tags": []
          },
          "execution_count": 5
        }
      ]
    },
    {
      "cell_type": "markdown",
      "metadata": {
        "id": "hsjcMPN9MaY7",
        "colab_type": "text"
      },
      "source": [
        "## 3. Data Preprocessing"
      ]
    },
    {
      "cell_type": "code",
      "metadata": {
        "id": "fWvSoCezqMzi",
        "colab_type": "code",
        "outputId": "8be2149d-b88c-44f8-b74a-7a0bfa09044d",
        "colab": {
          "base_uri": "https://localhost:8080/",
          "height": 413
        }
      },
      "source": [
        "event_data = df.pop('arrest')\n",
        "dtime_data = df.pop('week')\n",
        "print(event_data.head(10))\n",
        "print(dtime_data.head(10))"
      ],
      "execution_count": 6,
      "outputs": [
        {
          "output_type": "stream",
          "text": [
            "0    1.0\n",
            "1    1.0\n",
            "2    1.0\n",
            "3    0.0\n",
            "4    0.0\n",
            "5    0.0\n",
            "6    1.0\n",
            "7    0.0\n",
            "8    0.0\n",
            "9    0.0\n",
            "Name: arrest, dtype: float64\n",
            "0    20.0\n",
            "1    17.0\n",
            "2    25.0\n",
            "3    52.0\n",
            "4    52.0\n",
            "5    52.0\n",
            "6    23.0\n",
            "7    52.0\n",
            "8    52.0\n",
            "9    52.0\n",
            "Name: week, dtype: float64\n"
          ],
          "name": "stdout"
        }
      ]
    },
    {
      "cell_type": "markdown",
      "metadata": {
        "id": "eI2oZNh3hFX2",
        "colab_type": "text"
      },
      "source": [
        "Check the distribution of event and event time."
      ]
    },
    {
      "cell_type": "code",
      "metadata": {
        "id": "jtF2Lb4GhKe7",
        "colab_type": "code",
        "outputId": "0d8106ca-d2d7-41dd-ac54-06cdd8aafa83",
        "colab": {
          "base_uri": "https://localhost:8080/",
          "height": 281
        }
      },
      "source": [
        "plt.hist(event_data)\n",
        "plt.title('Distribution of Event')\n",
        "plt.show()"
      ],
      "execution_count": 7,
      "outputs": [
        {
          "output_type": "display_data",
          "data": {
            "image/png": "[encoded data removed]",
            "text/plain": [
              "<Figure size 432x288 with 1 Axes>"
            ]
          },
          "metadata": {
            "tags": []
          }
        }
      ]
    },
    {
      "cell_type": "code",
      "metadata": {
        "id": "9PWZwUZvtHOZ",
        "colab_type": "code",
        "outputId": "921040fd-4bab-4a70-9d85-7757c261faed",
        "colab": {
          "base_uri": "https://localhost:8080/",
          "height": 295
        }
      },
      "source": [
        "plt.hist(dtime_data)\n",
        "plt.title('Distribution of Event Time')\n",
        "plt.xlabel('Week')\n",
        "plt.show()"
      ],
      "execution_count": 8,
      "outputs": [
        {
          "output_type": "display_data",
          "data": {
            "image/png": "[encoded data removed]",
            "text/plain": [
              "<Figure size 432x288 with 1 Axes>"
            ]
          },
          "metadata": {
            "tags": []
          }
        }
      ]
    },
    {
      "cell_type": "markdown",
      "metadata": {
        "id": "i3lgJQ5m-YUy",
        "colab_type": "text"
      },
      "source": [
        "Let the time start with 0."
      ]
    },
    {
      "cell_type": "code",
      "metadata": {
        "id": "u8qtjqsTxpW7",
        "colab_type": "code",
        "outputId": "dbe29015-e5f9-4bfb-8ddf-9541ebe50a05",
        "colab": {
          "base_uri": "https://localhost:8080/",
          "height": 35
        }
      },
      "source": [
        "dtime_data2 = np.int32(dtime_data - 1)\n",
        "\n",
        "maxtime = np.max(dtime_data2) + 1\n",
        "maxtime"
      ],
      "execution_count": 9,
      "outputs": [
        {
          "output_type": "execute_result",
          "data": {
            "text/plain": [
              "52"
            ]
          },
          "metadata": {
            "tags": []
          },
          "execution_count": 9
        }
      ]
    },
    {
      "cell_type": "markdown",
      "metadata": {
        "id": "qPXcqThLilw0",
        "colab_type": "text"
      },
      "source": [
        "Check the number of unique values for each column."
      ]
    },
    {
      "cell_type": "code",
      "metadata": {
        "id": "n47uiZP0A8Wb",
        "colab_type": "code",
        "outputId": "b1d72c7a-b19b-462e-d1af-de326e2c5318",
        "colab": {
          "base_uri": "https://localhost:8080/",
          "height": 143
        }
      },
      "source": [
        "for col in df.columns:\n",
        "  print(col, df[col].value_counts().shape[0])"
      ],
      "execution_count": 10,
      "outputs": [
        {
          "output_type": "stream",
          "text": [
            "fin 2\n",
            "age 28\n",
            "race 2\n",
            "wexp 2\n",
            "mar 2\n",
            "paro 2\n",
            "prio 17\n"
          ],
          "name": "stdout"
        }
      ]
    },
    {
      "cell_type": "code",
      "metadata": {
        "id": "jaIAQtg14XyW",
        "colab_type": "code",
        "outputId": "3ca7b47a-4ca8-4c12-dd40-9641c8c5030b",
        "colab": {
          "base_uri": "https://localhost:8080/",
          "height": 35
        }
      },
      "source": [
        "X_data = np.repeat(np.array(df)[:, None, :], maxtime, axis=1)\n",
        "X_data.shape"
      ],
      "execution_count": 11,
      "outputs": [
        {
          "output_type": "execute_result",
          "data": {
            "text/plain": [
              "(432, 52, 7)"
            ]
          },
          "metadata": {
            "tags": []
          },
          "execution_count": 11
        }
      ]
    },
    {
      "cell_type": "markdown",
      "metadata": {
        "id": "l-qc0zhzqeKH",
        "colab_type": "text"
      },
      "source": [
        "Split train and test set."
      ]
    },
    {
      "cell_type": "code",
      "metadata": {
        "id": "hjLw_l9Yqeis",
        "colab_type": "code",
        "outputId": "122b2ccf-81bf-46a6-d8cf-65e01de102fb",
        "colab": {
          "base_uri": "https://localhost:8080/",
          "height": 125
        }
      },
      "source": [
        "hazard_mask = np.zeros([X_data.shape[0], maxtime])\n",
        "hazard_mask[event_data==1, dtime_data2[event_data==1]] = 1.\n",
        "survival_mask = np.zeros([X_data.shape[0], maxtime])\n",
        "for i in range(X_data.shape[0]):\n",
        "  survival_mask[i,:dtime_data2[i]+1] = 1.\n",
        "\n",
        "X_train, X_test, hazard_mask_train, hazard_mask_test, survival_mask_train, survival_mask_test = train_test_split(X_data, hazard_mask, survival_mask, stratify=np.sum(hazard_mask, 1), test_size=0.2, random_state=2019)\n",
        "\n",
        "print(X_train.shape)\n",
        "print(hazard_mask_train.shape)\n",
        "print(survival_mask_train.shape)\n",
        "\n",
        "print(X_test.shape)\n",
        "print(hazard_mask_test.shape)\n",
        "print(survival_mask_test.shape)"
      ],
      "execution_count": 12,
      "outputs": [
        {
          "output_type": "stream",
          "text": [
            "(345, 52, 7)\n",
            "(345, 52)\n",
            "(345, 52)\n",
            "(87, 52, 7)\n",
            "(87, 52)\n",
            "(87, 52)\n"
          ],
          "name": "stdout"
        }
      ]
    },
    {
      "cell_type": "markdown",
      "metadata": {
        "id": "NhT6RLAOsEm6",
        "colab_type": "text"
      },
      "source": [
        "Check if the stratification is well applied."
      ]
    },
    {
      "cell_type": "code",
      "metadata": {
        "id": "UsfxDaSvr-r4",
        "colab_type": "code",
        "outputId": "2fdf5380-6e15-4127-f8bc-630b842c23ea",
        "colab": {
          "base_uri": "https://localhost:8080/",
          "height": 53
        }
      },
      "source": [
        "print(np.unique(np.sum(hazard_mask_train, 1), return_counts=True))\n",
        "print(np.unique(np.sum(hazard_mask_test, 1), return_counts=True))"
      ],
      "execution_count": 13,
      "outputs": [
        {
          "output_type": "stream",
          "text": [
            "(array([0., 1.]), array([254,  91]))\n",
            "(array([0., 1.]), array([64, 23]))\n"
          ],
          "name": "stdout"
        }
      ]
    },
    {
      "cell_type": "markdown",
      "metadata": {
        "id": "Vaii0zJCL33B",
        "colab_type": "text"
      },
      "source": [
        "Normalize the varibales."
      ]
    },
    {
      "cell_type": "code",
      "metadata": {
        "id": "wKLaMsoqL7gq",
        "colab_type": "code",
        "outputId": "2c294709-f1ff-4312-f476-d03c9dbef785",
        "colab": {
          "base_uri": "https://localhost:8080/",
          "height": 377
        }
      },
      "source": [
        "X_train_concat = X_train.reshape([-1, X_train.shape[2]])\n",
        "X_test_concat = X_test.reshape([-1, X_test.shape[2]])\n",
        "\n",
        "train_mean = X_train_concat.mean(0)\n",
        "train_std = X_train_concat.std(0)\n",
        "\n",
        "X_train_norm = (X_train_concat - train_mean)/train_std\n",
        "X_test_norm = (X_test_concat - train_mean)/train_std\n",
        "\n",
        "X_train_norm = np.where(np.isnan(X_train_norm), 0., X_train_norm)\n",
        "X_test_norm = np.where(np.isnan(X_test_norm), 0., X_test_norm)\n",
        "\n",
        "X_train_norm = X_train_norm.reshape([-1, maxtime, X_train.shape[2]])\n",
        "X_test_norm = X_test_norm.reshape([-1, maxtime, X_test.shape[2]])\n",
        "\n",
        "X_train_norm[0:10,0,:]"
      ],
      "execution_count": 14,
      "outputs": [
        {
          "output_type": "execute_result",
          "data": {
            "text/plain": [
              "array([[-0.98561076,  1.15983999,  0.37230883,  0.86675777,  2.6501426 ,\n",
              "         0.78722189, -0.35472611],\n",
              "       [ 1.01459931,  0.83933955,  0.37230883, -1.15372487, -0.37733819,\n",
              "        -1.27028987, -0.68909908],\n",
              "       [ 1.01459931,  2.44184173,  0.37230883,  0.86675777, -0.37733819,\n",
              "         0.78722189, -0.35472611],\n",
              "       [-0.98561076,  0.83933955,  0.37230883,  0.86675777, -0.37733819,\n",
              "         0.78722189, -0.02035314],\n",
              "       [-0.98561076,  0.51883911,  0.37230883,  0.86675777,  2.6501426 ,\n",
              "         0.78722189, -0.68909908],\n",
              "       [-0.98561076,  0.51883911, -2.68594224,  0.86675777,  2.6501426 ,\n",
              "         0.78722189,  0.31401984],\n",
              "       [-0.98561076,  0.67908933,  0.37230883, -1.15372487, -0.37733819,\n",
              "        -1.27028987,  0.31401984],\n",
              "       [ 1.01459931, -0.92341285,  0.37230883, -1.15372487, -0.37733819,\n",
              "         0.78722189, -0.35472611],\n",
              "       [ 1.01459931,  1.3200902 ,  0.37230883,  0.86675777,  2.6501426 ,\n",
              "        -1.27028987,  1.9858847 ],\n",
              "       [-0.98561076,  0.35858889,  0.37230883,  0.86675777, -0.37733819,\n",
              "         0.78722189, -0.68909908]])"
            ]
          },
          "metadata": {
            "tags": []
          },
          "execution_count": 14
        }
      ]
    },
    {
      "cell_type": "markdown",
      "metadata": {
        "id": "AonWzrUdphkG",
        "colab_type": "text"
      },
      "source": [
        "## 4. Construct the Network"
      ]
    },
    {
      "cell_type": "code",
      "metadata": {
        "id": "SligWFOE3UsU",
        "colab_type": "code",
        "colab": {}
      },
      "source": [
        "state_size = 16"
      ],
      "execution_count": 0,
      "outputs": []
    },
    {
      "cell_type": "code",
      "metadata": {
        "id": "PRXKmMYzoued",
        "colab_type": "code",
        "outputId": "a105e096-76a9-4ee5-c54f-8fb7aa60d4c9",
        "colab": {
          "base_uri": "https://localhost:8080/",
          "height": 377
        }
      },
      "source": [
        "input_cov = tf.keras.Input((maxtime, X_train_norm.shape[2]))\n",
        "\n",
        "h = tf.keras.layers.LSTM(state_size, return_sequences=True)(input_cov)\n",
        "h = tf.keras.layers.LSTM(state_size, return_sequences=True)(h)\n",
        "\n",
        "lamb = tf.keras.layers.Dense(1, activation='sigmoid', \n",
        "                             kernel_regularizer=tf.keras.regularizers.l1_l2(0, 1.e-3))(h)\n",
        "lamb = tf.keras.layers.ActivityRegularization(l1=0, l2=1.e-2)(lamb)\n",
        "lamb = tf.keras.layers.Flatten()(lamb)\n",
        "\n",
        "model = tf.keras.Model(input_cov, lamb)\n",
        "\n",
        "model.summary()"
      ],
      "execution_count": 16,
      "outputs": [
        {
          "output_type": "stream",
          "text": [
            "Model: \"model\"\n",
            "_________________________________________________________________\n",
            "Layer (type)                 Output Shape              Param #   \n",
            "=================================================================\n",
            "input_1 (InputLayer)         [(None, 52, 7)]           0         \n",
            "_________________________________________________________________\n",
            "lstm (LSTM)                  (None, 52, 16)            1536      \n",
            "_________________________________________________________________\n",
            "lstm_1 (LSTM)                (None, 52, 16)            2112      \n",
            "_________________________________________________________________\n",
            "dense (Dense)                (None, 52, 1)             17        \n",
            "_________________________________________________________________\n",
            "activity_regularization (Act (None, 52, 1)             0         \n",
            "_________________________________________________________________\n",
            "flatten (Flatten)            (None, 52)                0         \n",
            "=================================================================\n",
            "Total params: 3,665\n",
            "Trainable params: 3,665\n",
            "Non-trainable params: 0\n",
            "_________________________________________________________________\n"
          ],
          "name": "stdout"
        }
      ]
    },
    {
      "cell_type": "code",
      "metadata": {
        "id": "8VektqDeZkiT",
        "colab_type": "code",
        "outputId": "253c6859-9b07-4db9-8614-e509240c63bc",
        "colab": {
          "base_uri": "https://localhost:8080/",
          "height": 644
        }
      },
      "source": [
        "tf.keras.utils.plot_model(model, show_layer_names=False, show_shapes=True)"
      ],
      "execution_count": 27,
      "outputs": [
        {
          "output_type": "execute_result",
          "data": {
            "image/png": "[encoded data removed]",
            "text/plain": [
              "<IPython.core.display.Image object>"
            ]
          },
          "metadata": {
            "tags": []
          },
          "execution_count": 27
        }
      ]
    },
    {
      "cell_type": "markdown",
      "metadata": {
        "id": "KB9q9mMkLFZH",
        "colab_type": "text"
      },
      "source": [
        "Define likelihood loss function."
      ]
    },
    {
      "cell_type": "code",
      "metadata": {
        "id": "ItClDUMHovfM",
        "colab_type": "code",
        "colab": {}
      },
      "source": [
        "def custom_loss(beta=1., eps=1.e-12):\n",
        "  def likelihood_loss(y_true, y_pred):\n",
        "    #hazard_series = -tf.math.log(1. + tf.exp(-y_pred)) # log(sigmoid(y_pred))\n",
        "    #survival_series = -y_pred-tf.math.log(1. + tf.exp(-y_pred)) # log(1-sigmoid(y_pred))\n",
        "    hazard_series = tf.math.log(y_pred + eps)\n",
        "    survival_series = tf.math.log(1. - y_pred + eps)\n",
        "    eventrate_series = 1. - y_pred\n",
        "\n",
        "    event = tf.cast(tf.reduce_sum(hazard_mask_train, axis=1), dtype=tf.float32)\n",
        "    \n",
        "    loghazard = tf.reduce_sum(hazard_series * hazard_mask_train, axis=1)\n",
        "    logsurvival = tf.reduce_sum(survival_series * survival_mask_train, axis=1)\n",
        "\n",
        "    loss_z = -tf.reduce_mean(loghazard + tf.reduce_sum(survival_series * (survival_mask_train - hazard_mask_train), axis=1)*event)\n",
        "    loss_c = -tf.reduce_mean(event*tf.math.log(1.-tf.exp(logsurvival)+eps) + (1-event)*logsurvival)\n",
        "\n",
        "    return loss_z + beta*loss_c\n",
        "  \n",
        "#  def likelihood_loss(y_true, y_pred):\n",
        "#    hazard_series = tf.math.log(y_pred + eps)\n",
        "#    survival_series = tf.math.log(1. - y_pred + eps)\n",
        "#    \n",
        "#    loghazard = tf.reduce_sum(hazard_series * hazard_mask_train, axis=1)\n",
        "#    logsurvival = tf.reduce_sum(survival_series * (survival_mask_train - hazard_mask_train), axis=1)\n",
        "#\n",
        "#    loss = -tf.reduce_mean(loghazard + logsurvival)\n",
        "#\n",
        "#    return loss\n",
        "  \n",
        "  return likelihood_loss"
      ],
      "execution_count": 0,
      "outputs": []
    },
    {
      "cell_type": "code",
      "metadata": {
        "id": "8wFyDIMUKy7D",
        "colab_type": "code",
        "colab": {}
      },
      "source": [
        "model.compile(\n",
        "    #optimizer=tf.keras.optimizers.Nadam(1e-4, clipnorm=1.),\n",
        "    optimizer=RAdamOptimizer(1e-3),\n",
        "    loss=custom_loss(.5),\n",
        ")"
      ],
      "execution_count": 0,
      "outputs": []
    },
    {
      "cell_type": "markdown",
      "metadata": {
        "id": "iI5IMV-lLVqw",
        "colab_type": "text"
      },
      "source": [
        "Train."
      ]
    },
    {
      "cell_type": "code",
      "metadata": {
        "id": "NFJHyVNOK7pb",
        "colab_type": "code",
        "colab": {}
      },
      "source": [
        "history = model.fit(\n",
        "    x = X_train_norm,\n",
        "    y = np.zeros_like(hazard_mask_train), # dummy variable\n",
        "    verbose = 0,\n",
        "    batch_size = X_train.shape[0], # full batch\n",
        "    epochs = int(1e6),\n",
        "    callbacks = [tf.keras.callbacks.EarlyStopping(monitor='loss', patience=1000, restore_best_weights=True)]\n",
        ")"
      ],
      "execution_count": 0,
      "outputs": []
    },
    {
      "cell_type": "code",
      "metadata": {
        "id": "zntzn0dxpAFf",
        "colab_type": "code",
        "outputId": "9b4d6489-f268-4141-fc5b-f45dd576e158",
        "colab": {
          "base_uri": "https://localhost:8080/",
          "height": 283
        }
      },
      "source": [
        "  plt.plot(history.history['loss'])\n",
        "  plt.ylabel('loss')\n",
        "  plt.xlabel('epoch')\n",
        "  plt.legend(['train'], loc='upper right')\n",
        "  plt.show()"
      ],
      "execution_count": 21,
      "outputs": [
        {
          "output_type": "display_data",
          "data": {
            "image/png": "[encoded data removed]",
            "text/plain": [
              "<Figure size 432x288 with 1 Axes>"
            ]
          },
          "metadata": {
            "tags": []
          }
        }
      ]
    },
    {
      "cell_type": "markdown",
      "metadata": {
        "id": "Hy0hJUnFOGjd",
        "colab_type": "text"
      },
      "source": [
        "## 5. Results"
      ]
    },
    {
      "cell_type": "code",
      "metadata": {
        "id": "EDvDEzS3ONp8",
        "colab_type": "code",
        "colab": {}
      },
      "source": [
        "hazard_train = model.predict(X_train_norm)\n",
        "survival_train = np.cumprod(1 - hazard_train, axis=1)\n",
        "\n",
        "hazard_test = model.predict(X_test_norm)\n",
        "survival_test = np.cumprod(1 - hazard_test, axis=1)"
      ],
      "execution_count": 0,
      "outputs": []
    },
    {
      "cell_type": "code",
      "metadata": {
        "id": "rMmINHL6ppZM",
        "colab_type": "code",
        "outputId": "90af048c-3bb8-4c44-86f9-14ae2cfe6268",
        "colab": {
          "base_uri": "https://localhost:8080/",
          "height": 573
        }
      },
      "source": [
        "num_sample = 5\n",
        "color = sns.color_palette('jet_r', num_sample)\n",
        "\n",
        "dtime_train = survival_mask_train.sum(1)\n",
        "event_train = np.floor(hazard_mask_train.sum(1))\n",
        "\n",
        "custom_lines = [Line2D([0], [0], color='k'),\n",
        "                Line2D([0], [0], color='k', linestyle='--')]\n",
        "\n",
        "for i in range(num_sample):\n",
        "  plt.plot(np.linspace(0, maxtime, maxtime+1), np.append(0, hazard_train[event_train==1][i]), color=color[i])\n",
        "  plt.axvline(dtime_train[event_train==1][i], color=color[i], linestyle='--', alpha = 0.7)\n",
        "plt.ylabel('Hazard')\n",
        "plt.xlabel('Time (month)')\n",
        "plt.title(str(num_sample)+' Train samples')\n",
        "plt.legend(custom_lines, ('Hazard', 'True event time'))\n",
        "plt.show()\n",
        "\n",
        "for i in range(num_sample):\n",
        "  plt.plot(np.linspace(0, maxtime, maxtime+1), np.append(1, survival_train[event_train==1][i]), color=color[i])\n",
        "  plt.axvline(dtime_train[event_train==1][i], color=color[i], linestyle='--', alpha = 0.7)\n",
        "plt.ylabel('Survival')\n",
        "plt.xlabel('Time (month)')\n",
        "plt.title(str(num_sample)+' Train samples')\n",
        "plt.ylim([0, 1])\n",
        "plt.legend(custom_lines, ('Survival', 'True event time'))\n",
        "plt.show()"
      ],
      "execution_count": 23,
      "outputs": [
        {
          "output_type": "display_data",
          "data": {
            "image/png": "[encoded data removed]",
            "text/plain": [
              "<Figure size 432x288 with 1 Axes>"
            ]
          },
          "metadata": {
            "tags": []
          }
        },
        {
          "output_type": "display_data",
          "data": {
            "image/png": "[encoded data removed]",
            "text/plain": [
              "<Figure size 432x288 with 1 Axes>"
            ]
          },
          "metadata": {
            "tags": []
          }
        }
      ]
    },
    {
      "cell_type": "markdown",
      "metadata": {
        "id": "leBSQPi1JqL8",
        "colab_type": "text"
      },
      "source": [
        "Where dotted lines indicate true event times."
      ]
    },
    {
      "cell_type": "code",
      "metadata": {
        "id": "-twerLud0lqL",
        "colab_type": "code",
        "colab": {
          "base_uri": "https://localhost:8080/",
          "height": 573
        },
        "outputId": "8d4d1cfd-e1ae-45d9-8c18-375f80d17789"
      },
      "source": [
        "num_sample = 5\n",
        "color = sns.color_palette('jet_r', num_sample)\n",
        "\n",
        "dtime_test = survival_mask_test.sum(1)\n",
        "event_test = np.floor(hazard_mask_test.sum(1))\n",
        "\n",
        "for i in range(num_sample):\n",
        "  plt.plot(np.linspace(0, maxtime, maxtime+1), np.append(0, hazard_test[event_test==1][i]), color=color[i])\n",
        "  plt.axvline(dtime_test[event_test==1][i], color=color[i], linestyle='--', alpha = 0.7)\n",
        "plt.ylabel('Hazard')\n",
        "plt.xlabel('Time (month)')\n",
        "plt.title(str(num_sample)+' Test samples')\n",
        "plt.legend(custom_lines, ('Hazard', 'True event time'))\n",
        "plt.show()\n",
        "\n",
        "for i in range(num_sample):\n",
        "  plt.plot(np.linspace(0, maxtime, maxtime+1), np.append(1, survival_test[event_test==1][i]), color=color[i])\n",
        "  plt.axvline(dtime_test[event_test==1][i], color=color[i], linestyle='--', alpha = 0.7)\n",
        "plt.ylabel('Survival')\n",
        "plt.xlabel('Time (month)')\n",
        "plt.title(str(num_sample)+' Test samples')\n",
        "plt.ylim([0, 1])\n",
        "plt.legend(custom_lines, ('Survival', 'True event time'))\n",
        "plt.show()"
      ],
      "execution_count": 24,
      "outputs": [
        {
          "output_type": "display_data",
          "data": {
            "image/png": "[encoded data removed]",
            "text/plain": [
              "<Figure size 432x288 with 1 Axes>"
            ]
          },
          "metadata": {
            "tags": []
          }
        },
        {
          "output_type": "display_data",
          "data": {
            "image/png": "[encoded data removed]",
            "text/plain": [
              "<Figure size 432x288 with 1 Axes>"
            ]
          },
          "metadata": {
            "tags": []
          }
        }
      ]
    },
    {
      "cell_type": "markdown",
      "metadata": {
        "id": "2hm3-yIPPPJ7",
        "colab_type": "text"
      },
      "source": [
        "Evaluate the time-dependent concordance index $C^{td}$, where\n",
        "\\begin{align}\n",
        "C^{td}=Pr\\left[ \\hat{F}(s^{(i)}|x^{(i)}) > \\hat{F}(s^{(i)}|x^{(j)}) | s^{(i)} < s^{(j)} \\right],\n",
        "\\end{align}\n",
        "which is derived from comparison of pairs in which one patient has experienced the event at a particular time while the other has been censored by that time."
      ]
    },
    {
      "cell_type": "code",
      "metadata": {
        "id": "d3dsF2QLOoIe",
        "colab_type": "code",
        "colab": {}
      },
      "source": [
        "def ctd(truetime, predsurv_mat, indicator):\n",
        "    N = truetime.shape[0]\n",
        "\n",
        "    truetime = np.int32(truetime.reshape([-1,]))\n",
        "    \n",
        "    comparable = 0.\n",
        "    concordance = 0.\n",
        "\n",
        "    for i in range(N):\n",
        "        if indicator[i] == 0:\n",
        "            continue\n",
        "        for j in range(N):\n",
        "            if indicator[j] == 1:\n",
        "                if truetime[i] < truetime[j]:\n",
        "                    comparable += 1.\n",
        "                    if predsurv_mat[i,truetime[i]] < predsurv_mat[j,truetime[i]]:\n",
        "                        concordance += 1.\n",
        "                    elif predsurv_mat[i,truetime[i]] == predsurv_mat[j,truetime[i]]:\n",
        "                        concordance += .5\n",
        "            else:\n",
        "                if truetime[i] <= truetime[j]:\n",
        "                    comparable += 1.\n",
        "                    if predsurv_mat[i,truetime[i]] < predsurv_mat[j,truetime[i]]:\n",
        "                        concordance += 1.\n",
        "                    elif predsurv_mat[i,truetime[i]] == predsurv_mat[j,truetime[i]]:\n",
        "                        concordance += .5\n",
        "    return concordance / comparable"
      ],
      "execution_count": 0,
      "outputs": []
    },
    {
      "cell_type": "code",
      "metadata": {
        "id": "HxvKt0_5OoGY",
        "colab_type": "code",
        "outputId": "e57836a0-0f17-4425-8057-8b547c63aa7b",
        "colab": {
          "base_uri": "https://localhost:8080/",
          "height": 53
        }
      },
      "source": [
        "print('Train Ctd: \\t' + f'{ctd(np.sum(survival_mask_train, 1, keepdims=True)-1, survival_train, np.sum(hazard_mask_train, 1, keepdims=True)):.3f}')\n",
        "print('Test Ctd: \\t' + f'{ctd(np.sum(survival_mask_test, 1, keepdims=True)-1, survival_test, np.sum(hazard_mask_test, 1, keepdims=True)):.3f}')"
      ],
      "execution_count": 26,
      "outputs": [
        {
          "output_type": "stream",
          "text": [
            "Train Ctd: \t0.920\n",
            "Test Ctd: \t0.535\n"
          ],
          "name": "stdout"
        }
      ]
    },
    {
      "cell_type": "markdown",
      "metadata": {
        "id": "3zd3ajHDkyFM",
        "colab_type": "text"
      },
      "source": [
        "There exists overfitting."
      ]
    },
    {
      "cell_type": "code",
      "metadata": {
        "id": "CUFWq8ZSOoDm",
        "colab_type": "code",
        "colab": {}
      },
      "source": [
        ""
      ],
      "execution_count": 0,
      "outputs": []
    },
    {
      "cell_type": "code",
      "metadata": {
        "id": "oO1k8ZfKOOfV",
        "colab_type": "code",
        "colab": {}
      },
      "source": [
        ""
      ],
      "execution_count": 0,
      "outputs": []
    }
  ]
}
